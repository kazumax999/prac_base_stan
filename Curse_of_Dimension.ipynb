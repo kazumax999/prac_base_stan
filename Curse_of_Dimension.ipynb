{
 "cells": [
  {
   "cell_type": "code",
   "execution_count": 2,
   "metadata": {},
   "outputs": [],
   "source": [
    "import numpy as np\n",
    "import pandas as pd\n",
    "import matplotlib.pyplot as plt\n",
    "from scipy.special import gamma\n",
    "%matplotlib inline"
   ]
  },
  {
   "cell_type": "code",
   "execution_count": 5,
   "metadata": {},
   "outputs": [],
   "source": [
    "plt.style.use(\"ggplot\")\n",
    "np.random.seed(123)\n",
    "accept_dict = {}"
   ]
  },
  {
   "cell_type": "code",
   "execution_count": 8,
   "metadata": {},
   "outputs": [
    {
     "name": "stdout",
     "output_type": "stream",
     "text": [
      "accept_ratio:  0.785925\n",
      "analytical solution:  0.7853981633974483\n",
      "{2: 1.0006707891959827}\n"
     ]
    }
   ],
   "source": [
    "# .2次元\n",
    "NMCS = 40000\n",
    "\n",
    "Ndim = 2\n",
    "accept = 0\n",
    "for i in range(NMCS):\n",
    "    # xの座標を取得\n",
    "    x = 2 * np.random.rand(Ndim) - 1.0\n",
    "    # N次元のxの原点からの距離を計算\n",
    "    # 全部のベクトルを2乗して和を取ってルートを取る\n",
    "    r = (np.sum(x**2)) ** 0.5\n",
    "    # 取得した点の距離が原点から1以下かを判定\n",
    "    if r <= 1:\n",
    "        # 1以下の場合は受領\n",
    "        accept +=1\n",
    "accept_ratio = accept / NMCS\n",
    "\n",
    "# 解析解（超格子の体積）\n",
    "analytical = np.pi **(Ndim/2.0) / (2 ** Ndim * gamma(Ndim /2 + 1))\n",
    "\n",
    "print(\"accept_ratio: \", accept_ratio)\n",
    "print(\"analytical solution: \", analytical)\n",
    "\n",
    "accept_dict.update({Ndim:accept_ratio / analytical})\n",
    "print(accept_dict)"
   ]
  },
  {
   "cell_type": "markdown",
   "metadata": {},
   "source": [
    "# まとめてN字元分の計算をする"
   ]
  },
  {
   "cell_type": "markdown",
   "metadata": {},
   "source": [
    "## 受領率を計算する関数"
   ]
  },
  {
   "cell_type": "code",
   "execution_count": 21,
   "metadata": {},
   "outputs": [],
   "source": [
    "# 受領率を計算する\n",
    "def calc_accept_ratio(Ndim, NMCS):\n",
    "    accept = 0\n",
    "    for i in range(NMCS):\n",
    "        # xの座標を取得\n",
    "        x = 2 * np.random.rand(Ndim) - 1.0\n",
    "        # N次元のxの原点からの距離を計算\n",
    "        # 全部のベクトルを2乗して和を取ってルートを取る\n",
    "        r = (np.sum(x**2)) ** 0.5\n",
    "        # 取得した点の距離が原点から1以下かを判定\n",
    "        if r <= 1:\n",
    "            # 1以下の場合は受領\n",
    "            accept +=1\n",
    "    accept_ratio = accept / NMCS\n",
    "    return accept_ratio\n"
   ]
  },
  {
   "cell_type": "markdown",
   "metadata": {},
   "source": [
    "## 超格子、球の体積を計算\n",
    "## 球と超格子の体積の比を計算"
   ]
  },
  {
   "cell_type": "code",
   "execution_count": 17,
   "metadata": {},
   "outputs": [],
   "source": [
    "# N次元の球の体積を計算する\n",
    "def calc_ball_volume(Ndim):\n",
    "    return np.pi**(Ndim/2)/gamma(Ndim / 2 + 1)\n",
    "\n",
    "# M次元の超格子の体積を計算する\n",
    "def calc_super_lattice_volume(Ndim):\n",
    "    return 2**Ndim\n",
    "\n",
    "# N次元の球の体積とN次元の超格子の体積の比を計算する\n",
    "def calc_analytical_ratio(Ndim):\n",
    "    return calc_ball_volume(Ndim) / calc_super_lattice_volume(Ndim)\n",
    "#     return np.pi ** (Ndim/2.0) / (2**Ndim * gamma(Ndim / s + 1))\n"
   ]
  },
  {
   "cell_type": "code",
   "execution_count": 20,
   "metadata": {},
   "outputs": [
    {
     "name": "stdout",
     "output_type": "stream",
     "text": [
      "accept_ratio:  0.7832\n",
      "analytical solution:  0.7853981633974483\n",
      "accept_ratio:  0.52025\n",
      "analytical solution:  0.5235987755982989\n",
      "accept_ratio:  0.308925\n",
      "analytical solution:  0.30842513753404244\n",
      "accept_ratio:  0.165975\n",
      "analytical solution:  0.16449340668482262\n",
      "accept_ratio:  0.0826\n",
      "analytical solution:  0.08074551218828077\n",
      "accept_ratio:  0.038675\n",
      "analytical solution:  0.03691223414321407\n",
      "accept_ratio:  0.0157\n",
      "analytical solution:  0.0158543442438155\n",
      "accept_ratio:  0.0053\n",
      "analytical solution:  0.006442400200661536\n",
      "accept_ratio:  0.002275\n",
      "analytical solution:  0.00249039457019272\n",
      "accept_ratio:  0.00095\n",
      "analytical solution:  0.0009199725973583495\n",
      "accept_ratio:  0.000325\n",
      "analytical solution:  0.00032599188692738996\n",
      "accept_ratio:  0.000125\n",
      "analytical solution:  0.00011116073666788121\n",
      "accept_ratio:  2.5e-05\n",
      "analytical solution:  3.657620418217724e-05\n",
      "{2: 0.9972012114365795, 3: 0.9936043097227024, 4: 1.0016206930146943, 5: 1.0090070073022208, 6: 1.022967069765995, 7: 1.0477555991313519, 8: 0.9902648610726548, 9: 0.822674753961384, 10: 0.9135098619428602, 11: 1.0326394533140144, 12: 0.9969573263410358, 13: 1.1244977655506803, 14: 0.6835044958596862}\n"
     ]
    }
   ],
   "source": [
    "# N次元の球と超格子の体積の比を計算する\n",
    "NMCS = 40000\n",
    "\n",
    "Ndims = 15\n",
    "accept_dict = {}\n",
    "for Ndim in range(2, Ndims):\n",
    "    accept_ratio = calc_accept_ratio(Ndim, NMCS)\n",
    "    analytical = calc_analytical_ratio(Ndim)\n",
    "    \n",
    "    print(\"accept_ratio: \", accept_ratio)\n",
    "    print(\"analytical solution: \", analytical)\n",
    "    accept_dict.update({Ndim:accept_ratio / analytical})\n",
    "print(accept_dict)\n"
   ]
  },
  {
   "cell_type": "code",
   "execution_count": null,
   "metadata": {},
   "outputs": [],
   "source": []
  },
  {
   "cell_type": "markdown",
   "metadata": {},
   "source": [
    "## 次元による球と超格子の体積の比をプロット"
   ]
  },
  {
   "cell_type": "code",
   "execution_count": 22,
   "metadata": {},
   "outputs": [
    {
     "data": {
      "text/plain": [
       "Text(0, 0.5, 'raetio[-]')"
      ]
     },
     "execution_count": 22,
     "metadata": {},
     "output_type": "execute_result"
    },
    {
     "data": {
      "image/png": "[encoded data removed]",
      "text/plain": [
       "<Figure size 432x288 with 1 Axes>"
      ]
     },
     "metadata": {},
     "output_type": "display_data"
    }
   ],
   "source": [
    "df = pd.DataFrame.from_dict(accept_dict, orient=\"index\")\n",
    "\n",
    "plt.scatter(df.index, df[0])\n",
    "plt.xlabel(\"dimension\")\n",
    "plt.ylabel(\"raetio[-]\")"
   ]
  },
  {
   "cell_type": "code",
   "execution_count": null,
   "metadata": {},
   "outputs": [],
   "source": []
  },
  {
   "cell_type": "markdown",
   "metadata": {},
   "source": [
    "## N次元の球の体積は収束していく"
   ]
  },
  {
   "cell_type": "code",
   "execution_count": 36,
   "metadata": {},
   "outputs": [
    {
     "name": "stdout",
     "output_type": "stream",
     "text": [
      "3.141592653589793\n",
      "4.188790204786391\n",
      "4.934802200544679\n",
      "5.263789013914324\n",
      "5.167712780049969\n",
      "4.724765970331401\n",
      "4.058712126416768\n",
      "3.2985089027387064\n",
      "2.550164039877345\n",
      "1.8841038793898999\n",
      "1.3352627688545893\n",
      "0.9106287547832829\n",
      "0.5992645293207919\n",
      "[3.141592653589793, 4.188790204786391, 4.934802200544679, 5.263789013914324, 5.167712780049969, 4.724765970331401, 4.058712126416768, 3.2985089027387064, 2.550164039877345, 1.8841038793898999, 1.3352627688545893, 0.9106287547832829, 0.5992645293207919]\n"
     ]
    },
    {
     "data": {
      "image/png": "[encoded data removed]",
      "text/plain": [
       "<Figure size 432x288 with 1 Axes>"
      ]
     },
     "metadata": {},
     "output_type": "display_data"
    }
   ],
   "source": [
    "# N次元球の体積\n",
    "Ndims = 15\n",
    "# ball_volumes = np.array([])\n",
    "ball_volumes = []\n",
    "for Ndim in range(2, Ndims):\n",
    "    ball_volume = calc_ball_volume(Ndim)\n",
    "    print(ball_volume)\n",
    "#     np.append(ball_volumes, ball_volume)\n",
    "#     np.insert(ball_volumes, ball_volumes.shape[0], ball_volume)\n",
    "    ball_volumes.append(ball_volume)\n",
    "print(ball_volumes)\n",
    "\n",
    "df = pd.DataFrame(ball_volumes)\n",
    "plt.scatter(df.index, df[0])\n",
    "plt.show()"
   ]
  },
  {
   "cell_type": "markdown",
   "metadata": {},
   "source": [
    "## N次元の超格子の体積は発散していく"
   ]
  },
  {
   "cell_type": "code",
   "execution_count": 37,
   "metadata": {},
   "outputs": [
    {
     "data": {
      "image/png": "[encoded data removed]",
      "text/plain": [
       "<Figure size 432x288 with 1 Axes>"
      ]
     },
     "metadata": {},
     "output_type": "display_data"
    }
   ],
   "source": [
    "# N次元の超格子の体積\n",
    "Ndim = 15\n",
    "super_lattice_volumes = []\n",
    "for Ndim in range(2, Ndims):\n",
    "    super_lattice_volume = calc_super_lattice_volume(Ndim)\n",
    "    super_lattice_volumes.append(super_lattice_volume)\n",
    "\n",
    "df = pd.DataFrame(super_lattice_volumes)\n",
    "plt.scatter(df.index, df[0])\n",
    "plt.show()"
   ]
  },
  {
   "cell_type": "code",
   "execution_count": null,
   "metadata": {},
   "outputs": [],
   "source": []
  },
  {
   "cell_type": "code",
   "execution_count": null,
   "metadata": {},
   "outputs": [],
   "source": []
  },
  {
   "cell_type": "code",
   "execution_count": 9,
   "metadata": {},
   "outputs": [
    {
     "name": "stdout",
     "output_type": "stream",
     "text": [
      "accept_ratio:  0.52365\n",
      "analytical solution:  0.5235987755982989\n",
      "{2: 1.0006707891959827, 3: 1.0000978314008517}\n"
     ]
    }
   ],
   "source": [
    "# 3次元\n",
    "NMCS = 40000\n",
    "\n",
    "Ndim = 3\n",
    "accept = 0\n",
    "for i in range(NMCS):\n",
    "    # xの座標を取得\n",
    "    x = 2 * np.random.rand(Ndim) - 1.0\n",
    "    # N次元のxの原点からの距離を計算\n",
    "    # 全部のベクトルを2乗して和を取ってルートを取る\n",
    "    r = (np.sum(x**2)) ** 0.5\n",
    "    # 取得した点の距離が原点から1以下かを判定\n",
    "    if r <= 1:\n",
    "        # 1以下の場合は受領\n",
    "        accept +=1\n",
    "accept_ratio = accept / NMCS\n",
    "\n",
    "# 解析解（超格子の体積）\n",
    "analytical = np.pi **(Ndim/2.0) / (2 ** Ndim * gamma(Ndim /2 + 1))\n",
    "\n",
    "print(\"accept_ratio: \", accept_ratio)\n",
    "print(\"analytical solution: \", analytical)\n",
    "\n",
    "accept_dict.update({Ndim:accept_ratio / analytical})\n",
    "print(accept_dict)"
   ]
  },
  {
   "cell_type": "code",
   "execution_count": null,
   "metadata": {},
   "outputs": [],
   "source": []
  },
  {
   "cell_type": "code",
   "execution_count": null,
   "metadata": {},
   "outputs": [],
   "source": []
  },
  {
   "cell_type": "code",
   "execution_count": null,
   "metadata": {},
   "outputs": [],
   "source": []
  },
  {
   "cell_type": "code",
   "execution_count": null,
   "metadata": {},
   "outputs": [],
   "source": []
  }
 ],
 "metadata": {
  "kernelspec": {
   "display_name": "Python 3",
   "language": "python",
   "name": "python3"
  },
  "language_info": {
   "codemirror_mode": {
    "name": "ipython",
    "version": 3
   },
   "file_extension": ".py",
   "mimetype": "text/x-python",
   "name": "python",
   "nbconvert_exporter": "python",
   "pygments_lexer": "ipython3",
   "version": "3.7.2"
  }
 },
 "nbformat": 4,
 "nbformat_minor": 4
}
