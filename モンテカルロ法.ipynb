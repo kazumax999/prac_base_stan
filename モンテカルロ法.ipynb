{
 "cells": [
  {
   "cell_type": "code",
   "execution_count": 1,
   "metadata": {},
   "outputs": [
    {
     "name": "stderr",
     "output_type": "stream",
     "text": [
      "d:\\work\\base_stan_prac\\venv\\lib\\site-packages\\IPython\\html.py:14: ShimWarning: The `IPython.html` package has been deprecated since IPython 4.0. You should import from `notebook` instead. `IPython.html.widgets` has moved to `ipywidgets`.\n",
      "  \"`IPython.html.widgets` has moved to `ipywidgets`.\", ShimWarning)\n"
     ]
    }
   ],
   "source": [
    "import numpy as np\n",
    "import pandas as pf\n",
    "import matplotlib.pyplot as plt\n",
    "from IPython.html.widgets import interact\n",
    "%matplotlib inline"
   ]
  },
  {
   "cell_type": "code",
   "execution_count": 3,
   "metadata": {},
   "outputs": [],
   "source": [
    "plt.style.use(\"ggplot\")\n",
    "np.random.seed(123)"
   ]
  },
  {
   "cell_type": "markdown",
   "metadata": {},
   "source": [
    "## 円の中に入る確率を求める"
   ]
  },
  {
   "cell_type": "markdown",
   "metadata": {},
   "source": [
    "- 100回試行"
   ]
  },
  {
   "cell_type": "code",
   "execution_count": 8,
   "metadata": {},
   "outputs": [
    {
     "name": "stdout",
     "output_type": "stream",
     "text": [
      "0.84\n"
     ]
    }
   ],
   "source": [
    "NMC = 100\n",
    "xmc = np.random.rand(NMC)\n",
    "ymc = np.random.rand(NMC)\n",
    "r = (xmc ** 2 + ymc ** 2) ** 0.5\n",
    "accept = np.where(r<=1, 1, 0)\n",
    "accept_ratio = np.sum(accept) / NMC\n",
    "print(accept_ratio)"
   ]
  },
  {
   "cell_type": "code",
   "execution_count": 10,
   "metadata": {},
   "outputs": [
    {
     "name": "stdout",
     "output_type": "stream",
     "text": [
      "0.74\n"
     ]
    }
   ],
   "source": [
    "# NMC = 100\n",
    "# xmc = np.random.rand(NMC)\n",
    "# ymc = np.random.rand(NMC)\n",
    "# r = (xmc ** 2 + ymc ** 2) ** 0.5\n",
    "# accept = np.where(r<=1, 1, 0)\n",
    "# accept_ratio = np.sum(accept) / NMC\n",
    "# print(accept_ratio)\n",
    "\n",
    "# MCS(Montecarlo Step)試行回数を設定する\n",
    "NMC = 100\n",
    "\n",
    "# MCSの回数だけ、乱数を発生させる\n",
    "xmc = np.random.rand(NMC)\n",
    "ymc = np.random.rand(NMC)\n",
    "\n",
    "# 原点からの距離 a^2 + b^2のルート\n",
    "r = (xmc ** 2 + ymc ** 2) ** 0.5\n",
    "\n",
    "# 受領条件(今回の場合、円の内側に入った点を受けいれる)\n",
    "accept = np.where(r <= 1, 1, 0)\n",
    "\n",
    "accept_ratio = np.sum(accept) / NMC\n",
    "\n",
    "print(accept_ratio)"
   ]
  },
  {
   "cell_type": "code",
   "execution_count": 11,
   "metadata": {},
   "outputs": [
    {
     "data": {
      "application/vnd.jupyter.widget-view+json": {
       "model_id": "57dcf15248fe4fdabb7cf5affabb8160",
       "version_major": 2,
       "version_minor": 0
      },
      "text/plain": [
       "interactive(children=(IntSlider(value=0, description='mcs'), Output()), _dom_classes=('widget-interact',))"
      ]
     },
     "metadata": {},
     "output_type": "display_data"
    }
   ],
   "source": [
    "NMC = 100\n",
    "xmc = np.random.rand(NMC)\n",
    "ymc = np.random.rand(NMC)\n",
    "@interact(mcs=(0,NMC,1))\n",
    "def animation(mcs=0):\n",
    "    plt.figure(figsize=(6,6))\n",
    "    plt.xlim([0,1])\n",
    "    plt.ylim([0,1])\n",
    "    x = np.arange(0,1,0.001)\n",
    "    y = (1 - x ** 2) ** 0.5\n",
    "    y2 = np.ones(x.shape[0])\n",
    "    plt.plot(x,y)\n",
    "    plt.fill_between(x, y, alpha=0.3)\n",
    "    plt.fill_between(x, y, y2,alpha=0.3)\n",
    "    r = (xmc[:mcs] ** 2 + ymc[:mcs] ** 2) ** 0.5\n",
    "    accept = np.where(r<=1, 1, 0)\n",
    "    accept_ratio = np.sum(accept) / mcs\n",
    "    plt.scatter(xmc[:mcs], ymc[:mcs], color=\"black\", marker=\".\")\n",
    "    plt.show()\n",
    "    print(\"Monte Carlo: \",accept_ratio)\n",
    "    print(\"Analytical Solution: \", np.pi / 4.0)"
   ]
  },
  {
   "cell_type": "code",
   "execution_count": 15,
   "metadata": {},
   "outputs": [
    {
     "data": {
      "application/vnd.jupyter.widget-view+json": {
       "model_id": "b69f5301f8c1488194ea5781b9fd0c41",
       "version_major": 2,
       "version_minor": 0
      },
      "text/plain": [
       "interactive(children=(IntSlider(value=0, description='mcs'), Output()), _dom_classes=('widget-interact',))"
      ]
     },
     "metadata": {},
     "output_type": "display_data"
    }
   ],
   "source": [
    "# NMC = 100\n",
    "# xmc = np.random.rand(NMC)\n",
    "# ymc = np.random.rand(NMC)\n",
    "# @interact(mcs=(0,NMC,1))\n",
    "# def animation(mcs=0):\n",
    "#     plt.figure(figsize=(6,6))\n",
    "#     plt.xlim([0,1])\n",
    "#     plt.ylim([0,1])\n",
    "#     x = np.arange(0,1,0.001)\n",
    "#     y = (1 - x ** 2) ** 0.5\n",
    "#     y2 = np.ones(x.shape[0])\n",
    "#     plt.plot(x,y)\n",
    "#     plt.fill_between(x, y, alpha=0.3)\n",
    "#     plt.fill_between(x, y, y2,alpha=0.3)\n",
    "#     r = (xmc[:mcs] ** 2 + ymc[:mcs] ** 2) ** 0.5\n",
    "#     accept = np.where(r<=1, 1, 0)\n",
    "#     accept_ratio = np.sum(accept) / mcs\n",
    "#     plt.scatter(xmc[:mcs], ymc[:mcs], color=\"black\", marker=\".\")\n",
    "#     plt.show()\n",
    "#     print(\"Monte Carlo: \",accept_ratio)\n",
    "#     print(\"Analytical Solution: \", np.pi / 4.0)\n",
    "\n",
    "# MCS(Montecarlo Step)試行回数を設定する\n",
    "NMC = 100\n",
    "\n",
    "# MCSの回数だけ、乱数を発生させる\n",
    "xmc = np.random.rand(NMC)\n",
    "ymc = np.random.rand(NMC)\n",
    "@interact(mcs=(0, NMC,1))\n",
    "def animation(mcs=0):\n",
    "    # 図のサイズ設定\n",
    "    plt.figure(figsize=(6,6))\n",
    "    # 軸の目盛範囲の設定\n",
    "    plt.xlim([0,1])\n",
    "    plt.ylim([0,1])\n",
    "    # 円を作る\n",
    "    x = np.arange(0, 1, 0.001)\n",
    "    # x^2 + y^2 = 1 をyについて解く\n",
    "    y = (1 - x ** 2) ** 0.5\n",
    "    y2 = np.ones(x.shape[0])\n",
    "    # 円をプロット\n",
    "    plt.plot(x,y)\n",
    "    # 円を塗りつぶす\n",
    "    plt.fill_between(x, y, alpha=0.3)\n",
    "    plt.fill_between(x, y, y2, alpha=0.3)\n",
    "    \n",
    "    # モンテカルロの点をプロットしていく\n",
    "    r = (xmc[:mcs] ** 2 + ymc[:mcs] ** 2) ** 0.5\n",
    "    accept = np.where(r<=1, 1, 0)\n",
    "    accept_ratio = (np.sum(accept) / mcs)\n",
    "    plt.scatter(xmc[:mcs], ymc[:mcs], color=\"blue\", marker=\".\")\n",
    "    \n",
    "    plt.show()\n",
    "#     print(x[:mcs])\n",
    "#     print(y[:mcs])\n",
    "#     print(r)\n",
    "#     print(np.sum(accept))\n",
    "#     print(mcs)\n",
    "    print(\"Monte Carlo:\", accept_ratio)\n",
    "    print(\"Anslytical Solution: \", np.pi/4.0)\n"
   ]
  },
  {
   "cell_type": "code",
   "execution_count": 16,
   "metadata": {},
   "outputs": [
    {
     "data": {
      "text/plain": [
       "Text(0, 0.5, 'accept raetio')"
      ]
     },
     "execution_count": 16,
     "metadata": {},
     "output_type": "execute_result"
    },
    {
     "data": {
      "image/png": "[encoded data removed]",
      "text/plain": [
       "<Figure size 432x288 with 1 Axes>"
      ]
     },
     "metadata": {},
     "output_type": "display_data"
    }
   ],
   "source": [
    "pi_mcs=[]\n",
    "for mcs in range(1, NMC):\n",
    "    r = (xmc[:mcs] ** 2 + ymc[:mcs] ** 2) ** 0.5\n",
    "    accept = np.where(r<=1, 1, 0)\n",
    "    accept_ratio = np.sum(accept) / mcs\n",
    "    pi_mcs.append(accept_ratio)\n",
    "\n",
    "pi_x = np.arange(len(pi_mcs)) + 1\n",
    "\n",
    "plt.plot(pi_x, pi_mcs)\n",
    "plt.hlines(0.785, pi_x[0], pi_x[-1], linestyles=\"dashed\")\n",
    "plt.xlabel(\"MCS\")\n",
    "plt.ylabel(\"accept raetio\")\n"
   ]
  },
  {
   "cell_type": "code",
   "execution_count": 17,
   "metadata": {},
   "outputs": [
    {
     "name": "stdout",
     "output_type": "stream",
     "text": [
      "0.781\n"
     ]
    }
   ],
   "source": [
    "# MCS(Montecarlo Step)試行回数を設定する\n",
    "NMC = 1000\n",
    "\n",
    "# MCSの回数だけ、乱数を発生させる\n",
    "xmc = np.random.rand(NMC)\n",
    "ymc = np.random.rand(NMC)\n",
    "\n",
    "# 原点からの距離 a^2 + b^2のルート\n",
    "r = (xmc ** 2 + ymc ** 2) ** 0.5\n",
    "\n",
    "# 受領条件(今回の場合、円の内側に入った点を受けいれる)\n",
    "accept = np.where(r <= 1, 1, 0)\n",
    "\n",
    "accept_ratio = np.sum(accept) / NMC\n",
    "\n",
    "print(accept_ratio)"
   ]
  },
  {
   "cell_type": "code",
   "execution_count": 18,
   "metadata": {},
   "outputs": [
    {
     "data": {
      "application/vnd.jupyter.widget-view+json": {
       "model_id": "d2b01a4311a24b7488a34f61db21ae14",
       "version_major": 2,
       "version_minor": 0
      },
      "text/plain": [
       "interactive(children=(IntSlider(value=0, description='mcs', max=1000), Output()), _dom_classes=('widget-intera…"
      ]
     },
     "metadata": {},
     "output_type": "display_data"
    }
   ],
   "source": [
    "# MCS(Montecarlo Step)試行回数を設定する\n",
    "NMC = 1000\n",
    "\n",
    "# MCSの回数だけ、乱数を発生させる\n",
    "xmc = np.random.rand(NMC)\n",
    "ymc = np.random.rand(NMC)\n",
    "@interact(mcs=(0, NMC,1))\n",
    "def animation(mcs=0):\n",
    "    # 図のサイズ設定\n",
    "    plt.figure(figsize=(6,6))\n",
    "    # 軸の目盛範囲の設定\n",
    "    plt.xlim([0,1])\n",
    "    plt.ylim([0,1])\n",
    "    # 円を作る\n",
    "    x = np.arange(0, 1, 0.001)\n",
    "    # x^2 + y^2 = 1 をyについて解く\n",
    "    y = (1 - x ** 2) ** 0.5\n",
    "    y2 = np.ones(x.shape[0])\n",
    "    # 円をプロット\n",
    "    plt.plot(x,y)\n",
    "    # 円を塗りつぶす\n",
    "    plt.fill_between(x, y, alpha=0.3)\n",
    "    plt.fill_between(x, y, y2, alpha=0.3)\n",
    "    \n",
    "    # モンテカルロの点をプロットしていく\n",
    "    r = (xmc[:mcs] ** 2 + ymc[:mcs] ** 2) ** 0.5\n",
    "    accept = np.where(r<=1, 1, 0)\n",
    "    accept_ratio = (np.sum(accept) / mcs)\n",
    "    plt.scatter(xmc[:mcs], ymc[:mcs], color=\"blue\", marker=\".\")\n",
    "    \n",
    "    plt.show()\n",
    "    print(\"Monte Carlo:\", accept_ratio)\n",
    "    print(\"Anslytical Solution: \", np.pi/4.0)\n"
   ]
  },
  {
   "cell_type": "code",
   "execution_count": 19,
   "metadata": {},
   "outputs": [
    {
     "data": {
      "text/plain": [
       "Text(0, 0.5, 'accept raetio')"
      ]
     },
     "execution_count": 19,
     "metadata": {},
     "output_type": "execute_result"
    },
    {
     "data": {
      "image/png": "[encoded data removed]",
      "text/plain": [
       "<Figure size 432x288 with 1 Axes>"
      ]
     },
     "metadata": {},
     "output_type": "display_data"
    }
   ],
   "source": [
    "pi_mcs=[]\n",
    "for mcs in range(1, NMC):\n",
    "    r = (xmc[:mcs] ** 2 + ymc[:mcs] ** 2) ** 0.5\n",
    "    accept = np.where(r<=1, 1, 0)\n",
    "    accept_ratio = np.sum(accept) / mcs\n",
    "    pi_mcs.append(accept_ratio)\n",
    "\n",
    "pi_x = np.arange(len(pi_mcs)) + 1\n",
    "\n",
    "plt.plot(pi_x, pi_mcs)\n",
    "plt.hlines(0.785, pi_x[0], pi_x[-1], linestyles=\"dashed\")\n",
    "plt.xlabel(\"MCS\")\n",
    "plt.ylabel(\"accept raetio\")\n"
   ]
  },
  {
   "cell_type": "code",
   "execution_count": 16,
   "metadata": {},
   "outputs": [
    {
     "name": "stdout",
     "output_type": "stream",
     "text": [
      "0.785\n"
     ]
    }
   ],
   "source": [
    "# MCS(Montecarlo Step)試行回数を設定する\n",
    "NMC = 10000\n",
    "\n",
    "# MCSの回数だけ、乱数を発生させる\n",
    "xmc = np.random.rand(NMC)\n",
    "ymc = np.random.rand(NMC)\n",
    "\n",
    "# 原点からの距離 a^2 + b^2のルート\n",
    "r = (xmc ** 2 + ymc ** 2) ** 0.5\n",
    "\n",
    "# 受領条件(今回の場合、円の内側に入った点を受けいれる)\n",
    "accept = np.where(r <= 1, 1, 0)\n",
    "\n",
    "accept_ratio = np.sum(accept) / NMC\n",
    "\n",
    "print(accept_ratio)"
   ]
  },
  {
   "cell_type": "code",
   "execution_count": null,
   "metadata": {},
   "outputs": [],
   "source": []
  },
  {
   "cell_type": "code",
   "execution_count": null,
   "metadata": {},
   "outputs": [],
   "source": []
  },
  {
   "cell_type": "code",
   "execution_count": null,
   "metadata": {},
   "outputs": [],
   "source": []
  },
  {
   "cell_type": "code",
   "execution_count": null,
   "metadata": {},
   "outputs": [],
   "source": []
  },
  {
   "cell_type": "code",
   "execution_count": null,
   "metadata": {},
   "outputs": [],
   "source": []
  },
  {
   "cell_type": "code",
   "execution_count": null,
   "metadata": {},
   "outputs": [],
   "source": []
  }
 ],
 "metadata": {
  "kernelspec": {
   "display_name": "Python 3",
   "language": "python",
   "name": "python3"
  },
  "language_info": {
   "codemirror_mode": {
    "name": "ipython",
    "version": 3
   },
   "file_extension": ".py",
   "mimetype": "text/x-python",
   "name": "python",
   "nbconvert_exporter": "python",
   "pygments_lexer": "ipython3",
   "version": "3.7.2"
  }
 },
 "nbformat": 4,
 "nbformat_minor": 4
}
