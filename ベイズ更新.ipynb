{
 "cells": [
  {
   "cell_type": "code",
   "execution_count": 1,
   "metadata": {},
   "outputs": [],
   "source": [
    "import numpy as np\n",
    "import pandas as pd\n",
    "import matplotlib.pyplot as plt\n",
    "from scipy.stats import bernoulli\n",
    "%matplotlib inline"
   ]
  },
  {
   "cell_type": "code",
   "execution_count": 2,
   "metadata": {},
   "outputs": [],
   "source": [
    "plt.style.use(\"ggplot\")"
   ]
  },
  {
   "cell_type": "code",
   "execution_count": 3,
   "metadata": {},
   "outputs": [],
   "source": [
    "# 事前のデータ設定\n",
    "\n",
    "# 袋Aから赤玉を取り出す確率\n",
    "p_a = 3.0 / 10.0\n",
    "# 袋Bから赤玉を取り出す確率\n",
    "p_b = 5.0 / 9.0\n",
    "# 袋A,Bどちらが選ばれやすいか\n",
    "p_prior = 0.5\n",
    "# 実際に取り出した結果\n",
    "# 0: blue, 1: red\n",
    "data = [0, 1, 0, 0, 1, 1, 1]"
   ]
  },
  {
   "cell_type": "code",
   "execution_count": 4,
   "metadata": {},
   "outputs": [],
   "source": [
    "# まずは1個目のデータだけで計算\n",
    "N_data = 1\n",
    "# 袋Aの尤度関数\n",
    "likehood_a = bernoulli.pmf(data[:N_data], p_a)\n",
    "# pmf:確率密度関数\n",
    "# 袋Bの尤度関数\n",
    "likehood_b = bernoulli.pmf(data[:N_data], p_b)"
   ]
  },
  {
   "cell_type": "code",
   "execution_count": 5,
   "metadata": {},
   "outputs": [
    {
     "data": {
      "text/plain": [
       "array([0.7])"
      ]
     },
     "execution_count": 5,
     "metadata": {},
     "output_type": "execute_result"
    }
   ],
   "source": [
    "likehood_a"
   ]
  },
  {
   "cell_type": "code",
   "execution_count": 6,
   "metadata": {},
   "outputs": [
    {
     "data": {
      "text/plain": [
       "array([0.44444444])"
      ]
     },
     "execution_count": 6,
     "metadata": {},
     "output_type": "execute_result"
    }
   ],
   "source": [
    "likehood_b"
   ]
  },
  {
   "cell_type": "code",
   "execution_count": 7,
   "metadata": {},
   "outputs": [],
   "source": [
    "# 2個目のデータだけで計算\n",
    "N_data = 2\n",
    "# 袋Aの尤度関数\n",
    "likehood_a = bernoulli.pmf(data[:N_data], p_a)\n",
    "# pmf:確率密度関数\n",
    "# 袋Bの尤度関数\n",
    "likehood_b = bernoulli.pmf(data[:N_data], p_b)"
   ]
  },
  {
   "cell_type": "code",
   "execution_count": 8,
   "metadata": {},
   "outputs": [
    {
     "data": {
      "text/plain": [
       "array([0.7, 0.3])"
      ]
     },
     "execution_count": 8,
     "metadata": {},
     "output_type": "execute_result"
    }
   ],
   "source": [
    "likehood_a"
   ]
  },
  {
   "cell_type": "code",
   "execution_count": 9,
   "metadata": {},
   "outputs": [
    {
     "data": {
      "text/plain": [
       "array([0.44444444, 0.55555556])"
      ]
     },
     "execution_count": 9,
     "metadata": {},
     "output_type": "execute_result"
    }
   ],
   "source": [
    "likehood_b"
   ]
  },
  {
   "cell_type": "code",
   "execution_count": 10,
   "metadata": {},
   "outputs": [
    {
     "data": {
      "text/plain": [
       "([<matplotlib.axis.XTick at 0x1640e270>,\n",
       "  <matplotlib.axis.XTick at 0x163f4450>],\n",
       " <a list of 2 Text xticklabel objects>)"
      ]
     },
     "execution_count": 10,
     "metadata": {},
     "output_type": "execute_result"
    },
    {
     "data": {
      "image/png": "[encoded data removed]",
      "text/plain": [
       "<Figure size 432x288 with 1 Axes>"
      ]
     },
     "metadata": {},
     "output_type": "display_data"
    }
   ],
   "source": [
    "#　事前分布\n",
    "# 袋の選びやすさ\n",
    "pa_posterior = p_prior\n",
    "pb_posterior = p_prior\n",
    "# 事後分布\n",
    "pa_posterior *= np.prod(likehood_a)\n",
    "pb_posterior *= np.prod(likehood_b)\n",
    "# 規格化\n",
    "norm = pa_posterior + pb_posterior\n",
    "\n",
    "# 結果をデータフレームに格納\n",
    "df = pd.DataFrame([pa_posterior/norm, pb_posterior/norm], columns=[\"post\"])\n",
    "# X軸を設定\n",
    "x = np.arange(df.shape[0])\n",
    "# 棒グラフ\n",
    "plt.bar(x, df[\"post\"])\n",
    "plt.xticks(x, [\"a\", \"b\"])"
   ]
  },
  {
   "cell_type": "code",
   "execution_count": 11,
   "metadata": {},
   "outputs": [],
   "source": [
    "# 4個目のデータで計算\n",
    "N_data = 4\n",
    "# 袋Aの尤度関数\n",
    "likehood_a = bernoulli.pmf(data[:N_data], p_a)\n",
    "# pmf:確率密度関数\n",
    "# 袋Bの尤度関数\n",
    "likehood_b = bernoulli.pmf(data[:N_data], p_b)"
   ]
  },
  {
   "cell_type": "code",
   "execution_count": 12,
   "metadata": {},
   "outputs": [
    {
     "data": {
      "text/plain": [
       "array([0.7, 0.3, 0.7, 0.7])"
      ]
     },
     "execution_count": 12,
     "metadata": {},
     "output_type": "execute_result"
    }
   ],
   "source": [
    "likehood_a"
   ]
  },
  {
   "cell_type": "code",
   "execution_count": 13,
   "metadata": {},
   "outputs": [
    {
     "data": {
      "text/plain": [
       "([<matplotlib.axis.XTick at 0x169f03b0>,\n",
       "  <matplotlib.axis.XTick at 0x16418a90>],\n",
       " <a list of 2 Text xticklabel objects>)"
      ]
     },
     "execution_count": 13,
     "metadata": {},
     "output_type": "execute_result"
    },
    {
     "data": {
      "image/png": "[encoded data removed]",
      "text/plain": [
       "<Figure size 432x288 with 1 Axes>"
      ]
     },
     "metadata": {},
     "output_type": "display_data"
    }
   ],
   "source": [
    "#　事前分布\n",
    "# 袋の選びやすさ\n",
    "pa_posterior = p_prior\n",
    "pb_posterior = p_prior\n",
    "# 事後分布\n",
    "pa_posterior *= np.prod(likehood_a)\n",
    "pb_posterior *= np.prod(likehood_b)\n",
    "# 規格化\n",
    "norm = pa_posterior + pb_posterior\n",
    "\n",
    "# 結果をデータフレームに格納\n",
    "df = pd.DataFrame([pa_posterior/norm, pb_posterior/norm], columns=[\"post\"])\n",
    "# X軸を設定\n",
    "x = np.arange(df.shape[0])\n",
    "# 棒グラフ\n",
    "plt.bar(x, df[\"post\"])\n",
    "plt.xticks(x, [\"a\", \"b\"])"
   ]
  },
  {
   "cell_type": "code",
   "execution_count": null,
   "metadata": {},
   "outputs": [],
   "source": []
  },
  {
   "cell_type": "code",
   "execution_count": 14,
   "metadata": {},
   "outputs": [],
   "source": [
    "# 5個目のデータで計算\n",
    "N_data = 5\n",
    "# 袋Aの尤度関数\n",
    "likehood_a = bernoulli.pmf(data[:N_data], p_a)\n",
    "# pmf:確率密度関数\n",
    "# 袋Bの尤度関数\n",
    "likehood_b = bernoulli.pmf(data[:N_data], p_b)"
   ]
  },
  {
   "cell_type": "code",
   "execution_count": 15,
   "metadata": {},
   "outputs": [
    {
     "data": {
      "text/plain": [
       "array([0.7, 0.3, 0.7, 0.7, 0.3])"
      ]
     },
     "execution_count": 15,
     "metadata": {},
     "output_type": "execute_result"
    }
   ],
   "source": [
    "likehood_a"
   ]
  },
  {
   "cell_type": "code",
   "execution_count": 16,
   "metadata": {},
   "outputs": [
    {
     "data": {
      "text/plain": [
       "array([0.44444444, 0.55555556, 0.44444444, 0.44444444, 0.55555556])"
      ]
     },
     "execution_count": 16,
     "metadata": {},
     "output_type": "execute_result"
    }
   ],
   "source": [
    "likehood_b"
   ]
  },
  {
   "cell_type": "code",
   "execution_count": 17,
   "metadata": {},
   "outputs": [
    {
     "data": {
      "text/plain": [
       "([<matplotlib.axis.XTick at 0x163911d0>,\n",
       "  <matplotlib.axis.XTick at 0x16437270>],\n",
       " <a list of 2 Text xticklabel objects>)"
      ]
     },
     "execution_count": 17,
     "metadata": {},
     "output_type": "execute_result"
    },
    {
     "data": {
      "image/png": "[encoded data removed]",
      "text/plain": [
       "<Figure size 432x288 with 1 Axes>"
      ]
     },
     "metadata": {},
     "output_type": "display_data"
    }
   ],
   "source": [
    "#　事前分布\n",
    "# 袋の選びやすさ\n",
    "pa_posterior = p_prior\n",
    "pb_posterior = p_prior\n",
    "# 事後分布\n",
    "pa_posterior *= np.prod(likehood_a)\n",
    "pb_posterior *= np.prod(likehood_b)\n",
    "# 規格化\n",
    "norm = pa_posterior + pb_posterior\n",
    "\n",
    "# 結果をデータフレームに格納\n",
    "df = pd.DataFrame([pa_posterior/norm, pb_posterior/norm], columns=[\"post\"])\n",
    "# X軸を設定\n",
    "x = np.arange(df.shape[0])\n",
    "# 棒グラフ\n",
    "plt.bar(x, df[\"post\"])\n",
    "plt.xticks(x, [\"a\", \"b\"])"
   ]
  },
  {
   "cell_type": "code",
   "execution_count": 18,
   "metadata": {},
   "outputs": [],
   "source": [
    "# 6個目のデータで計算\n",
    "N_data = 6\n",
    "# 袋Aの尤度関数\n",
    "likehood_a = bernoulli.pmf(data[:N_data], p_a)\n",
    "# pmf:確率密度関数\n",
    "# 袋Bの尤度関数\n",
    "likehood_b = bernoulli.pmf(data[:N_data], p_b)"
   ]
  },
  {
   "cell_type": "code",
   "execution_count": 19,
   "metadata": {},
   "outputs": [
    {
     "data": {
      "text/plain": [
       "array([0.7, 0.3, 0.7, 0.7, 0.3, 0.3])"
      ]
     },
     "execution_count": 19,
     "metadata": {},
     "output_type": "execute_result"
    }
   ],
   "source": [
    "likehood_a"
   ]
  },
  {
   "cell_type": "code",
   "execution_count": 20,
   "metadata": {},
   "outputs": [
    {
     "data": {
      "text/plain": [
       "([<matplotlib.axis.XTick at 0x1655b230>,\n",
       "  <matplotlib.axis.XTick at 0x16540db0>],\n",
       " <a list of 2 Text xticklabel objects>)"
      ]
     },
     "execution_count": 20,
     "metadata": {},
     "output_type": "execute_result"
    },
    {
     "data": {
      "image/png": "[encoded data removed]",
      "text/plain": [
       "<Figure size 432x288 with 1 Axes>"
      ]
     },
     "metadata": {},
     "output_type": "display_data"
    }
   ],
   "source": [
    "#　事前分布\n",
    "# 袋の選びやすさ\n",
    "pa_posterior = p_prior\n",
    "pb_posterior = p_prior\n",
    "# 事後分布\n",
    "pa_posterior *= np.prod(likehood_a)\n",
    "pb_posterior *= np.prod(likehood_b)\n",
    "# 規格化\n",
    "norm = pa_posterior + pb_posterior\n",
    "\n",
    "# 結果をデータフレームに格納\n",
    "df = pd.DataFrame([pa_posterior/norm, pb_posterior/norm], columns=[\"post\"])\n",
    "# X軸を設定\n",
    "x = np.arange(df.shape[0])\n",
    "# 棒グラフ\n",
    "plt.bar(x, df[\"post\"])\n",
    "plt.xticks(x, [\"a\", \"b\"])"
   ]
  },
  {
   "cell_type": "code",
   "execution_count": 22,
   "metadata": {},
   "outputs": [
    {
     "name": "stdout",
     "output_type": "stream",
     "text": [
      "likehood_a [0.7]\n",
      "likehood_b [0.44444444]\n"
     ]
    },
    {
     "data": {
      "image/png": "[encoded data removed]",
      "text/plain": [
       "<Figure size 432x288 with 1 Axes>"
      ]
     },
     "metadata": {},
     "output_type": "display_data"
    },
    {
     "name": "stdout",
     "output_type": "stream",
     "text": [
      "likehood_a [0.7 0.3]\n",
      "likehood_b [0.44444444 0.55555556]\n"
     ]
    },
    {
     "data": {
      "image/png": "[encoded data removed]",
      "text/plain": [
       "<Figure size 432x288 with 1 Axes>"
      ]
     },
     "metadata": {},
     "output_type": "display_data"
    },
    {
     "name": "stdout",
     "output_type": "stream",
     "text": [
      "likehood_a [0.7 0.3 0.7]\n",
      "likehood_b [0.44444444 0.55555556 0.44444444]\n"
     ]
    },
    {
     "data": {
      "image/png": "[encoded data removed]",
      "text/plain": [
       "<Figure size 432x288 with 1 Axes>"
      ]
     },
     "metadata": {},
     "output_type": "display_data"
    },
    {
     "name": "stdout",
     "output_type": "stream",
     "text": [
      "likehood_a [0.7 0.3 0.7 0.7]\n",
      "likehood_b [0.44444444 0.55555556 0.44444444 0.44444444]\n"
     ]
    },
    {
     "data": {
      "image/png": "[encoded data removed]",
      "text/plain": [
       "<Figure size 432x288 with 1 Axes>"
      ]
     },
     "metadata": {},
     "output_type": "display_data"
    },
    {
     "name": "stdout",
     "output_type": "stream",
     "text": [
      "likehood_a [0.7 0.3 0.7 0.7 0.3]\n",
      "likehood_b [0.44444444 0.55555556 0.44444444 0.44444444 0.55555556]\n"
     ]
    },
    {
     "data": {
      "image/png": "[encoded data removed]",
      "text/plain": [
       "<Figure size 432x288 with 1 Axes>"
      ]
     },
     "metadata": {},
     "output_type": "display_data"
    },
    {
     "name": "stdout",
     "output_type": "stream",
     "text": [
      "likehood_a [0.7 0.3 0.7 0.7 0.3 0.3]\n",
      "likehood_b [0.44444444 0.55555556 0.44444444 0.44444444 0.55555556 0.55555556]\n"
     ]
    },
    {
     "data": {
      "image/png": "[encoded data removed]",
      "text/plain": [
       "<Figure size 432x288 with 1 Axes>"
      ]
     },
     "metadata": {},
     "output_type": "display_data"
    },
    {
     "name": "stdout",
     "output_type": "stream",
     "text": [
      "likehood_a [0.7 0.3 0.7 0.7 0.3 0.3 0.3]\n",
      "likehood_b [0.44444444 0.55555556 0.44444444 0.44444444 0.55555556 0.55555556\n",
      " 0.55555556]\n"
     ]
    },
    {
     "data": {
      "image/png": "[encoded data removed]",
      "text/plain": [
       "<Figure size 432x288 with 1 Axes>"
      ]
     },
     "metadata": {},
     "output_type": "display_data"
    }
   ],
   "source": [
    "for n in range(1, len(data)+1):\n",
    "    # n個目のデータで計算\n",
    "    N_data = n\n",
    "    # 袋Aの尤度関数\n",
    "    likehood_a = bernoulli.pmf(data[:N_data], p_a)\n",
    "    # pmf:確率密度関数\n",
    "    # 袋Bの尤度関数\n",
    "    likehood_b = bernoulli.pmf(data[:N_data], p_b)\n",
    "    \n",
    "    #　事前分布\n",
    "    # 袋の選びやすさ\n",
    "    pa_posterior = p_prior\n",
    "    pb_posterior = p_prior\n",
    "    # 事後分布\n",
    "    pa_posterior *= np.prod(likehood_a)\n",
    "    pb_posterior *= np.prod(likehood_b)\n",
    "    # likehoodがリストになっているので、N=xでの確率を掛けていくことになる。\n",
    "    \n",
    "    # 規格化\n",
    "    norm = pa_posterior + pb_posterior\n",
    "\n",
    "    # 結果をデータフレームに格納\n",
    "    df = pd.DataFrame([pa_posterior/norm, pb_posterior/norm], columns=[\"post\"])\n",
    "    # X軸を設定\n",
    "    x = np.arange(df.shape[0])\n",
    "    # 棒グラフ\n",
    "    plt.bar(x, df[\"post\"])\n",
    "    title = \"N=\" + str(n)\n",
    "    plt.title(title)\n",
    "    plt.xticks(x, [\"a\", \"b\"])\n",
    "    print(\"likehood_a\", likehood_a)\n",
    "    print(\"likehood_b\", likehood_b)\n",
    "    plt.show()"
   ]
  },
  {
   "cell_type": "code",
   "execution_count": null,
   "metadata": {},
   "outputs": [],
   "source": []
  },
  {
   "cell_type": "code",
   "execution_count": null,
   "metadata": {},
   "outputs": [],
   "source": []
  },
  {
   "cell_type": "code",
   "execution_count": null,
   "metadata": {},
   "outputs": [],
   "source": []
  },
  {
   "cell_type": "code",
   "execution_count": null,
   "metadata": {},
   "outputs": [],
   "source": []
  },
  {
   "cell_type": "code",
   "execution_count": null,
   "metadata": {},
   "outputs": [],
   "source": []
  },
  {
   "cell_type": "code",
   "execution_count": null,
   "metadata": {},
   "outputs": [],
   "source": []
  },
  {
   "cell_type": "code",
   "execution_count": null,
   "metadata": {},
   "outputs": [],
   "source": []
  }
 ],
 "metadata": {
  "kernelspec": {
   "display_name": "Python 3",
   "language": "python",
   "name": "python3"
  },
  "language_info": {
   "codemirror_mode": {
    "name": "ipython",
    "version": 3
   },
   "file_extension": ".py",
   "mimetype": "text/x-python",
   "name": "python",
   "nbconvert_exporter": "python",
   "pygments_lexer": "ipython3",
   "version": "3.7.2"
  }
 },
 "nbformat": 4,
 "nbformat_minor": 4
}
